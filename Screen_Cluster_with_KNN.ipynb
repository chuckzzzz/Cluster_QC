{
 "cells": [
  {
   "cell_type": "code",
   "execution_count": 8,
   "metadata": {},
   "outputs": [],
   "source": [
    "import leidenalg as la\n",
    "import igraph as ig\n",
    "from scipy.io import mmread\n",
    "from scipy import sparse\n",
    "from time import perf_counter as pc\n",
    "import os"
   ]
  },
  {
   "cell_type": "markdown",
   "metadata": {},
   "source": [
    "# Input #"
   ]
  },
  {
   "cell_type": "code",
   "execution_count": 21,
   "metadata": {},
   "outputs": [],
   "source": [
    "input_path = \"./test_data/knn.mmtx\"\n",
    "resolution = 0.4\n",
    "output_dir = \"./test_data/clusters\"\n",
    "py_file = './snapATAC.leiden.py'\n",
    "num_iterations = 100\n"
   ]
  },
  {
   "cell_type": "code",
   "execution_count": 22,
   "metadata": {},
   "outputs": [],
   "source": [
    "def leiden_cluster(reso, outf, knn):\n",
    "    \"\"\" Run and count to peak \"\"\"\n",
    "    #start_time = pc()\n",
    "    \"\"\" init input files \"\"\"\n",
    "    vcount = max(knn.shape)\n",
    "    sources, targets = knn.nonzero()\n",
    "    edgelist = list(zip(sources.tolist(), targets.tolist()))\n",
    "    g = ig.Graph(vcount, edgelist)\n",
    "    \n",
    "    partition = la.find_partition(g, la.RBConfigurationVertexPartition, resolution_parameter = reso)\n",
    "    part_membership = partition.membership\n",
    "\n",
    "    outpart = \".\".join([outf,\"partition.txt\"])\n",
    "    with open(outpart, 'w') as filehandle:\n",
    "        for listitem in part_membership:\n",
    "            listitem = listitem + 1\n",
    "            filehandle.write('%s\\n' % listitem)\n",
    "    end_time = pc()\n",
    "    #print('Used (secs): ', end_time - start_time)"
   ]
  },
  {
   "cell_type": "markdown",
   "metadata": {},
   "source": [
    "# Generate clusters based using Leiden#"
   ]
  },
  {
   "cell_type": "code",
   "execution_count": 23,
   "metadata": {
    "collapsed": true
   },
   "outputs": [
    {
     "name": "stdout",
     "output_type": "stream",
     "text": [
      "Used (secs):  1.1988325593993068\n",
      "Used (secs):  1.1179113029502332\n",
      "Used (secs):  1.133783798199147\n",
      "Used (secs):  1.1425661710090935\n",
      "Used (secs):  1.1109113488346338\n",
      "Used (secs):  1.1188809010200202\n",
      "Used (secs):  1.1433272892609239\n",
      "Used (secs):  1.1701875813305378\n",
      "Used (secs):  1.110824908129871\n",
      "Used (secs):  1.1167104463092983\n",
      "Used (secs):  1.0989941800944507\n",
      "Used (secs):  1.1172179621644318\n",
      "Used (secs):  1.133275588043034\n",
      "Used (secs):  1.1105446047149599\n",
      "Used (secs):  1.1002208329737186\n",
      "Used (secs):  1.1173009239137173\n",
      "Used (secs):  1.0896106008440256\n",
      "Used (secs):  1.1020798259414732\n",
      "Used (secs):  1.1344284201040864\n",
      "Used (secs):  1.1004013721831143\n",
      "Used (secs):  1.1061961157247424\n",
      "Used (secs):  1.2105961539782584\n",
      "Used (secs):  1.1216954397968948\n",
      "Used (secs):  1.1276838281191885\n",
      "Used (secs):  1.102321405429393\n",
      "Used (secs):  1.112259385176003\n",
      "Used (secs):  1.1371161062270403\n",
      "Used (secs):  1.1285665212199092\n",
      "Used (secs):  1.103949696291238\n",
      "Used (secs):  1.1214624349959195\n",
      "Used (secs):  1.1165321050211787\n",
      "Used (secs):  1.1383344680070877\n",
      "Used (secs):  1.1145855179056525\n",
      "Used (secs):  1.1028236751444638\n",
      "Used (secs):  1.0945465960539877\n",
      "Used (secs):  1.1218805890530348\n",
      "Used (secs):  1.111784216016531\n",
      "Used (secs):  1.1209939066320658\n",
      "Used (secs):  1.0958428932353854\n",
      "Used (secs):  1.1130889388732612\n",
      "Used (secs):  1.129497867077589\n",
      "Used (secs):  1.1069968901574612\n",
      "Used (secs):  1.116960970684886\n",
      "Used (secs):  1.1103861099109054\n",
      "Used (secs):  1.1383139146491885\n",
      "Used (secs):  1.136626636609435\n",
      "Used (secs):  1.109519615303725\n",
      "Used (secs):  1.1665065209381282\n",
      "Used (secs):  1.1295703016221523\n",
      "Used (secs):  1.1260072253644466\n",
      "Used (secs):  1.1124018472619355\n",
      "Used (secs):  1.1151375002227724\n",
      "Used (secs):  1.1073750900104642\n",
      "Used (secs):  1.1505697001703084\n",
      "Used (secs):  1.1373039288446307\n",
      "Used (secs):  1.1252369699068367\n",
      "Used (secs):  1.1184886898845434\n",
      "Used (secs):  1.1000048089772463\n",
      "Used (secs):  1.1434766282327473\n",
      "Used (secs):  1.1052822270430624\n",
      "Used (secs):  1.1293750288896263\n",
      "Used (secs):  1.1341897491365671\n",
      "Used (secs):  1.1030433201231062\n",
      "Used (secs):  1.0918088369071484\n",
      "Used (secs):  1.1516919960267842\n",
      "Used (secs):  1.1240528039634228\n",
      "Used (secs):  1.1293925931677222\n",
      "Used (secs):  1.1519363168627024\n",
      "Used (secs):  1.1156868943944573\n",
      "Used (secs):  1.1107259970158339\n",
      "Used (secs):  1.16273921309039\n",
      "Used (secs):  1.1631461139768362\n",
      "Used (secs):  1.1275718109682202\n",
      "Used (secs):  1.10122248576954\n",
      "Used (secs):  1.062296043150127\n",
      "Used (secs):  1.1444854442961514\n",
      "Used (secs):  1.1146474690176547\n",
      "Used (secs):  1.0932469768449664\n",
      "Used (secs):  1.116875278763473\n",
      "Used (secs):  1.1549503020942211\n",
      "Used (secs):  1.1166887586005032\n",
      "Used (secs):  1.091146538965404\n",
      "Used (secs):  1.117763748858124\n",
      "Used (secs):  1.1353537668474019\n",
      "Used (secs):  1.179226459003985\n",
      "Used (secs):  1.1079415632411838\n",
      "Used (secs):  1.1007845611311495\n",
      "Used (secs):  1.1169722201302648\n",
      "Used (secs):  1.1388316117227077\n",
      "Used (secs):  1.0837597139179707\n",
      "Used (secs):  1.1408665608614683\n",
      "Used (secs):  1.167757028248161\n",
      "Used (secs):  1.1080877869389951\n",
      "Used (secs):  1.1496778959408402\n",
      "Used (secs):  1.1247333227656782\n",
      "Used (secs):  1.1405479479581118\n",
      "Used (secs):  1.1254741582088172\n",
      "Used (secs):  1.1122677931562066\n",
      "Used (secs):  1.111526237335056\n",
      "Used (secs):  1.1252741781063378\n"
     ]
    }
   ],
   "source": [
    "knn_dt = mmread(input_path)\n",
    "for i in range(num_iterations):\n",
    "    if(os.path.isdir(output_dir) == False):\n",
    "        os.mkdir(output_dir)\n",
    "    cur_path = os.path.join(output_dir,\"cluster\"+str(i+1)+'.csv')\n",
    "    leiden_cluster(resolution, cur_path, knn_dt)"
   ]
  },
  {
   "cell_type": "code",
   "execution_count": null,
   "metadata": {},
   "outputs": [],
   "source": []
  }
 ],
 "metadata": {
  "kernelspec": {
   "display_name": "Python [conda env:leiden] *",
   "language": "python",
   "name": "conda-env-leiden-py"
  },
  "language_info": {
   "codemirror_mode": {
    "name": "ipython",
    "version": 3
   },
   "file_extension": ".py",
   "mimetype": "text/x-python",
   "name": "python",
   "nbconvert_exporter": "python",
   "pygments_lexer": "ipython3",
   "version": "3.6.9"
  }
 },
 "nbformat": 4,
 "nbformat_minor": 2
}
